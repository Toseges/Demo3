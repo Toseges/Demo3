{
 "cells": [
  {
   "cell_type": "code",
   "execution_count": 1,
   "id": "956e10df",
   "metadata": {},
   "outputs": [
    {
     "name": "stdout",
     "output_type": "stream",
     "text": [
      "1\n",
      "2\n",
      "3\n",
      "4\n",
      "5\n",
      "6\n",
      "7\n",
      "8\n",
      "9\n"
     ]
    }
   ],
   "source": [
    "for num in range(1,10):#This is not a while loop. This has a definite ending\n",
    "    print(num) "
   ]
  },
  {
   "cell_type": "code",
   "execution_count": 3,
   "id": "b010cfb4",
   "metadata": {},
   "outputs": [
    {
     "name": "stdout",
     "output_type": "stream",
     "text": [
      "0\n",
      "1\n",
      "2\n",
      "3\n",
      "4\n",
      "5\n",
      "6\n",
      "7\n",
      "8\n",
      "9\n"
     ]
    }
   ],
   "source": [
    "counter=0\n",
    "while True: \n",
    "    if counter <= 9: # break condition: ie the program will continue until the condition is met\n",
    "        print(counter)\n",
    "        counter += 1\n",
    "    else:\n",
    "        break"
   ]
  },
  {
   "cell_type": "code",
   "execution_count": 4,
   "id": "48d48686",
   "metadata": {},
   "outputs": [],
   "source": [
    "# while loop as above is countinous until the data is condition is meant, which is when counter = 9\n"
   ]
  },
  {
   "cell_type": "code",
   "execution_count": 6,
   "id": "91712543",
   "metadata": {},
   "outputs": [
    {
     "name": "stdout",
     "output_type": "stream",
     "text": [
      "Welcome to work, enter your name: Bayo\n",
      "welcome Bayo, how are you?\n",
      "Welcome to work, enter your name: Tosin\n",
      "welcome Tosin, how are you?\n",
      "Welcome to work, enter your name: Dave\n",
      "welcome Dave, how are you?\n",
      "Welcome to work, enter your name: xyz\n",
      "These are the names of the staff that reported to work\n",
      "Bayo\n",
      "Tosin\n",
      "Dave\n"
     ]
    }
   ],
   "source": [
    "# write an attendee register program\n",
    "\n",
    "register = []\n",
    "password = 'xyz'#break variable\n",
    "\n",
    "while True: \n",
    "    staff = input('Welcome to work, enter your name: ')# we are accepting user input\n",
    "    # we don not add F'(f string) because we do not have variable but string\n",
    "    if staff != password:  # validating the break condition to ensure it is not met #(!= means not equal)\n",
    "        print (f'welcome {staff}, how are you?')\n",
    "        register.append (staff)\n",
    "    else:\n",
    "        break #exit the loop, without this it continues.\n",
    "               \n",
    "print ('These are the names of the staff that reported to work')\n",
    "for name in register:\n",
    "    print(name)\n",
    "        "
   ]
  },
  {
   "cell_type": "code",
   "execution_count": 8,
   "id": "34c7368b",
   "metadata": {},
   "outputs": [
    {
     "name": "stdout",
     "output_type": "stream",
     "text": [
      "Enter the first number: 11\n",
      "Enter the second number: 25\n",
      "The LCM of 11 and 25 is 275\n"
     ]
    }
   ],
   "source": [
    "# write a program that finds the Lcm of two numbers\n",
    "\n",
    "x = int(input('Enter the first number: ')) # accepting input\n",
    "y = int(input('Enter the second number: '))# accepting input\n",
    "\n",
    "#checking which number is greater\n",
    "if x > y:\n",
    "    greater = x\n",
    "else:\n",
    "    greater = y\n",
    "    \n",
    "while True:\n",
    "    if greater % x ==0 and greater % y == 0: \n",
    "        lcm = greater\n",
    "        print(f'The LCM of {x} and {y} is {lcm}')\n",
    "        break\n",
    "    else:\n",
    "        greater += 1"
   ]
  },
  {
   "cell_type": "code",
   "execution_count": 16,
   "id": "0ea89ec2",
   "metadata": {},
   "outputs": [],
   "source": [
    "## functions"
   ]
  },
  {
   "cell_type": "code",
   "execution_count": 10,
   "id": "9c00b1c2",
   "metadata": {},
   "outputs": [],
   "source": [
    "#Functions helps us to write are reusable codes.\n",
    "#Functions starts with def followed by an argument or parameter written in bracket"
   ]
  },
  {
   "cell_type": "code",
   "execution_count": 11,
   "id": "26a1f069",
   "metadata": {},
   "outputs": [],
   "source": [
    "# Function that says hi\n",
    "\n",
    "def say_hi(name,title):\n",
    "    greetings = (f'Hi {title} {name}, welcome to church')\n",
    "    return greetings"
   ]
  },
  {
   "cell_type": "code",
   "execution_count": 12,
   "id": "e8445b68",
   "metadata": {},
   "outputs": [
    {
     "data": {
      "text/plain": [
       "'Hi Chief Muyiwa, welcome to church'"
      ]
     },
     "execution_count": 12,
     "metadata": {},
     "output_type": "execute_result"
    }
   ],
   "source": [
    "say_hi(name = 'Muyiwa', title = 'Chief')"
   ]
  },
  {
   "cell_type": "code",
   "execution_count": 13,
   "id": "280d9b5d",
   "metadata": {},
   "outputs": [
    {
     "data": {
      "text/plain": [
       "'Hi Miss Jane, welcome to church'"
      ]
     },
     "execution_count": 13,
     "metadata": {},
     "output_type": "execute_result"
    }
   ],
   "source": [
    "say_hi(name = 'Jane', title = 'Miss')"
   ]
  },
  {
   "cell_type": "code",
   "execution_count": 14,
   "id": "20a0af4e",
   "metadata": {},
   "outputs": [
    {
     "data": {
      "text/plain": [
       "'Hi Dr Daniel, welcome to church'"
      ]
     },
     "execution_count": 14,
     "metadata": {},
     "output_type": "execute_result"
    }
   ],
   "source": [
    "say_hi('Daniel','Dr')"
   ]
  },
  {
   "cell_type": "code",
   "execution_count": 20,
   "id": "80408c55",
   "metadata": {},
   "outputs": [],
   "source": [
    "#write a function that returns the interest on a loan\n",
    "\n",
    "def get_interest(amount, rate, time):\n",
    "    interest = ( amount * rate *time)/100\n",
    "    return interest"
   ]
  },
  {
   "cell_type": "code",
   "execution_count": 21,
   "id": "e0b90fc7",
   "metadata": {},
   "outputs": [
    {
     "data": {
      "text/plain": [
       "600.0"
      ]
     },
     "execution_count": 21,
     "metadata": {},
     "output_type": "execute_result"
    }
   ],
   "source": [
    "get_interest(amount=5000, rate = 3, time = 4)"
   ]
  },
  {
   "cell_type": "code",
   "execution_count": 22,
   "id": "9608d0bd",
   "metadata": {},
   "outputs": [],
   "source": [
    "#exerise\n",
    "#write a function that finds the area of a triangle"
   ]
  },
  {
   "cell_type": "code",
   "execution_count": 23,
   "id": "2a46c9e9",
   "metadata": {},
   "outputs": [],
   "source": [
    "def triangle_values(breadth, height):\n",
    "    area_triangle = (breadth * height)/2\n",
    "    return area_triangle"
   ]
  },
  {
   "cell_type": "code",
   "execution_count": 24,
   "id": "c38e4bb4",
   "metadata": {},
   "outputs": [
    {
     "data": {
      "text/plain": [
       "27.0"
      ]
     },
     "execution_count": 24,
     "metadata": {},
     "output_type": "execute_result"
    }
   ],
   "source": [
    "triangle_values(breadth = 6, height = 9)"
   ]
  },
  {
   "cell_type": "code",
   "execution_count": 25,
   "id": "2b6ec103",
   "metadata": {},
   "outputs": [],
   "source": [
    "# assignment\n",
    "\n",
    "# write a function that solves a quadratic equation\n",
    "# write a program that performs some user registration and returns the number of the registered users(need a while loop)\n",
    "# write a currency converter function\n",
    "# build a simple quiz program based on some 5 questions with a reward system.(need a while loop)\n"
   ]
  },
  {
   "cell_type": "code",
   "execution_count": null,
   "id": "59ccb86d",
   "metadata": {},
   "outputs": [],
   "source": [
    "# write a function that solves a quadratic equation"
   ]
  },
  {
   "cell_type": "code",
   "execution_count": 1,
   "id": "0c910827",
   "metadata": {},
   "outputs": [],
   "source": [
    "# Quadratic equation = ax**2 + bx + c = 0\n",
    "#where a!= 0"
   ]
  },
  {
   "cell_type": "code",
   "execution_count": 2,
   "id": "a86b6e26",
   "metadata": {},
   "outputs": [
    {
     "name": "stdout",
     "output_type": "stream",
     "text": [
      "enter number(a!=0):  4\n",
      "enter number:  12\n",
      "enter number:  3\n",
      "the roots are:  (-2.724744871391589+0j) (-0.27525512860841106+0j)\n"
     ]
    }
   ],
   "source": [
    "import  cmath\n",
    "\n",
    "a = (int(input(\"enter number(a!=0):  \")))\n",
    "b = (int(input(\"enter number:  \")))\n",
    "c = (int(input(\"enter number:  \")))\n",
    "\n",
    "d= (b**2)-(4*a*c)\n",
    "\n",
    "#Find the solutions(roots)\n",
    "sol1 = ((-b-cmath.sqrt(d))/(2*a))\n",
    "\n",
    "sol2 = ((-b+cmath.sqrt(d))/(2*a))\n",
    "\n",
    "print(\"the roots are: \", sol1,sol2)"
   ]
  },
  {
   "cell_type": "code",
   "execution_count": 7,
   "id": "e8103488",
   "metadata": {},
   "outputs": [],
   "source": [
    "# write a currency converter function"
   ]
  },
  {
   "cell_type": "code",
   "execution_count": 8,
   "id": "dfd942f8",
   "metadata": {},
   "outputs": [
    {
     "name": "stdout",
     "output_type": "stream",
     "text": [
      " Enter the amount in Naira: 300000\n",
      "300000 Naira is 449 dollars and 517 cents\n"
     ]
    }
   ],
   "source": [
    "value = input(' Enter the amount in Naira: ') # The amount to be converted to dollars\n",
    "value = int(value) # converting dollar value to numerical value\n",
    "#conversion rate = $667\n",
    "\n",
    "dollar = value//667\n",
    "cent = value%667\n",
    "\n",
    "print(f'{value} Naira is {dollar} dollars and {cent} cents')"
   ]
  },
  {
   "cell_type": "code",
   "execution_count": 9,
   "id": "df702e7d",
   "metadata": {},
   "outputs": [],
   "source": [
    "# build a simple quiz program based on some 5 questions with a reward system.(need a while loop)"
   ]
  },
  {
   "cell_type": "code",
   "execution_count": null,
   "id": "af7c9373",
   "metadata": {},
   "outputs": [],
   "source": [
    "quit = 'done'\n",
    "while True: \n",
    "    print('do you want to continue')\n",
    "    decision = input()\n",
    "    if decision == 'yes':\n",
    "        Question_1 = (input('enter your favorite meal: '))\n",
    "        Question_2 = (input('enter your best color: '))\n",
    "        Question_3 = (input('enter your vacation destination: '))\n",
    "        Question_4 = (input('enter your favorite country: '))\n",
    "        Question_5 = (input('enter your birthday:  '))\n",
    "        \n",
    "        print(f'you qualify for a destination trip raffle  draw')\n",
    "        \n",
    "    else: \n",
    "        print('You do not qualify for a raffle draw')\n",
    "        break"
   ]
  },
  {
   "cell_type": "code",
   "execution_count": null,
   "id": "1c6a6c4d",
   "metadata": {},
   "outputs": [
    {
     "name": "stdout",
     "output_type": "stream",
     "text": [
      "do you want to continue\n",
      "yes\n",
      "enter your favorite meal: \n",
      "enter your best color: green\n",
      "enter your vacation destination: \n",
      "enter your favorite country: ghana\n",
      "enter your birthday:  august\n",
      "you qualify for a destination trip raffle  draw\n",
      "do you want to continue\n"
     ]
    }
   ],
   "source": [
    "quit = 'done'\n",
    "while True: \n",
    "    print('do you want to continue')\n",
    "    decision = input()\n",
    "    if decision == 'yes':\n",
    "        Question_1 = (input('enter your favorite meal: '))\n",
    "        Question_2 = (input('enter your best color: '))\n",
    "        Question_3 = (input('enter your vacation destination: '))\n",
    "        Question_4 = (input('enter your favorite country: '))\n",
    "        Question_5 = (input('enter your birthday:  '))\n",
    "        \n",
    "        print(f'you qualify for a destination trip raffle  draw')\n",
    "        \n",
    "    else: \n",
    "        print('You do not qualify for a raffle draw')\n",
    "        break"
   ]
  },
  {
   "cell_type": "code",
   "execution_count": null,
   "id": "4cd443b5",
   "metadata": {},
   "outputs": [],
   "source": []
  }
 ],
 "metadata": {
  "kernelspec": {
   "display_name": "Python 3 (ipykernel)",
   "language": "python",
   "name": "python3"
  },
  "language_info": {
   "codemirror_mode": {
    "name": "ipython",
    "version": 3
   },
   "file_extension": ".py",
   "mimetype": "text/x-python",
   "name": "python",
   "nbconvert_exporter": "python",
   "pygments_lexer": "ipython3",
   "version": "3.11.5"
  }
 },
 "nbformat": 4,
 "nbformat_minor": 5
}
