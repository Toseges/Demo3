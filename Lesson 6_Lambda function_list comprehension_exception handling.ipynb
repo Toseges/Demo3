{
 "cells": [
  {
   "cell_type": "code",
   "execution_count": 1,
   "id": "98e043ce",
   "metadata": {},
   "outputs": [],
   "source": [
    "# Lambda functions\n",
    "# exception handling\n",
    "# list comprehension"
   ]
  },
  {
   "cell_type": "code",
   "execution_count": 2,
   "id": "15b7892a",
   "metadata": {},
   "outputs": [],
   "source": [
    "# Revising loop\n",
    "# function that returns the prime number within a range"
   ]
  },
  {
   "cell_type": "code",
   "execution_count": 3,
   "id": "3516ff5e",
   "metadata": {},
   "outputs": [],
   "source": [
    "def check_prime(num):\n",
    "    for i in range(2,num):\n",
    "        if num % i == 0:\n",
    "            return False\n",
    "    else:\n",
    "        return True"
   ]
  },
  {
   "cell_type": "code",
   "execution_count": 4,
   "id": "0512baba",
   "metadata": {},
   "outputs": [
    {
     "data": {
      "text/plain": [
       "True"
      ]
     },
     "execution_count": 4,
     "metadata": {},
     "output_type": "execute_result"
    }
   ],
   "source": [
    "# calling the check prime function\n",
    "check_prime (11)"
   ]
  },
  {
   "cell_type": "code",
   "execution_count": 5,
   "id": "119539f9",
   "metadata": {},
   "outputs": [
    {
     "data": {
      "text/plain": [
       "False"
      ]
     },
     "execution_count": 5,
     "metadata": {},
     "output_type": "execute_result"
    }
   ],
   "source": [
    "check_prime (15)"
   ]
  },
  {
   "cell_type": "code",
   "execution_count": 6,
   "id": "5bf04777",
   "metadata": {},
   "outputs": [],
   "source": [
    "# write the function that uses the check_prime to return the numbers of primes within a range"
   ]
  },
  {
   "cell_type": "code",
   "execution_count": 10,
   "id": "bf7c3aec",
   "metadata": {},
   "outputs": [
    {
     "data": {
      "text/plain": [
       "'primes are : [3, 5, 7, 11, 13, 17, 19]'"
      ]
     },
     "execution_count": 10,
     "metadata": {},
     "output_type": "execute_result"
    }
   ],
   "source": [
    "def get_prime(lower,upper):\n",
    "    prime_list = []\n",
    "    for i in range(lower, upper+1):\n",
    "        if check_prime(i):\n",
    "            prime_list.append(i)\n",
    "    return f'primes are : {prime_list}'\n",
    "    \n",
    "get_prime(3,20)"
   ]
  },
  {
   "cell_type": "code",
   "execution_count": 12,
   "id": "9490342d",
   "metadata": {},
   "outputs": [],
   "source": [
    "def get_prime(lower,upper):\n",
    "    prime_list = []\n",
    "    for i in range(lower, upper+1):\n",
    "        if check_prime(i):\n",
    "            prime_list.append(i)\n",
    "    count = len(prime_list)\n",
    "    return f'primes are : {prime_list}'"
   ]
  },
  {
   "cell_type": "code",
   "execution_count": 15,
   "id": "0ae6f1b2",
   "metadata": {},
   "outputs": [],
   "source": [
    "def get_prime(lower,upper):\n",
    "    prime_list = []\n",
    "    for i in range(lower, upper+1):\n",
    "        if check_prime(i):\n",
    "            prime_list.append(i)\n",
    "    count = len(prime_list)\n",
    "    \n",
    "    return prime_list, count"
   ]
  },
  {
   "cell_type": "code",
   "execution_count": 17,
   "id": "36aafc34",
   "metadata": {},
   "outputs": [
    {
     "data": {
      "text/plain": [
       "'primes are : [3, 5, 7, 11, 13, 17, 19]'"
      ]
     },
     "execution_count": 17,
     "metadata": {},
     "output_type": "execute_result"
    }
   ],
   "source": [
    "get_prime(3,20)"
   ]
  },
  {
   "cell_type": "code",
   "execution_count": 25,
   "id": "c0d43256",
   "metadata": {},
   "outputs": [],
   "source": [
    "# lambda functions perform only one function at a time, and should not be heavy or cumbersome\n",
    "# Compared to def function, which are more readable"
   ]
  },
  {
   "cell_type": "code",
   "execution_count": 19,
   "id": "e5ab8c3c",
   "metadata": {},
   "outputs": [],
   "source": [
    "#write a function that doubles itself"
   ]
  },
  {
   "cell_type": "code",
   "execution_count": 20,
   "id": "a66b3987",
   "metadata": {},
   "outputs": [],
   "source": [
    "#Normal function:\n",
    "\n",
    "def double(num):\n",
    "    return 2 * num"
   ]
  },
  {
   "cell_type": "code",
   "execution_count": 21,
   "id": "5e3c5edb",
   "metadata": {},
   "outputs": [
    {
     "data": {
      "text/plain": [
       "30"
      ]
     },
     "execution_count": 21,
     "metadata": {},
     "output_type": "execute_result"
    }
   ],
   "source": [
    "double(15)"
   ]
  },
  {
   "cell_type": "code",
   "execution_count": 23,
   "id": "14c8b133",
   "metadata": {},
   "outputs": [
    {
     "data": {
      "text/plain": [
       "30"
      ]
     },
     "execution_count": 23,
     "metadata": {},
     "output_type": "execute_result"
    }
   ],
   "source": [
    "#Lambda function\n",
    "double_2 = lambda x: x * 2\n",
    "\n",
    "double_2(15)"
   ]
  },
  {
   "cell_type": "code",
   "execution_count": 24,
   "id": "e15df733",
   "metadata": {},
   "outputs": [
    {
     "data": {
      "text/plain": [
       "40"
      ]
     },
     "execution_count": 24,
     "metadata": {},
     "output_type": "execute_result"
    }
   ],
   "source": [
    "#Lambda function\n",
    "double_add = lambda x, y: y + (x * 2)\n",
    "\n",
    "double_add(15, 10)"
   ]
  },
  {
   "cell_type": "code",
   "execution_count": 26,
   "id": "7f8042ce",
   "metadata": {},
   "outputs": [],
   "source": [
    "# list comprehension"
   ]
  },
  {
   "cell_type": "code",
   "execution_count": 27,
   "id": "a806027d",
   "metadata": {},
   "outputs": [],
   "source": [
    "numbers = [1,2,3,4,5,6,7,8,9,10]\n",
    "\n",
    "even = [] # set up an empty list\n",
    "\n",
    "for num in numbers:\n",
    "    if num % 2 == 0:\n",
    "        even.append(num)"
   ]
  },
  {
   "cell_type": "code",
   "execution_count": 28,
   "id": "00602694",
   "metadata": {},
   "outputs": [
    {
     "data": {
      "text/plain": [
       "[2, 4, 6, 8, 10]"
      ]
     },
     "execution_count": 28,
     "metadata": {},
     "output_type": "execute_result"
    }
   ],
   "source": [
    "even"
   ]
  },
  {
   "cell_type": "code",
   "execution_count": 29,
   "id": "cfdaa2e5",
   "metadata": {},
   "outputs": [
    {
     "data": {
      "text/plain": [
       "[2, 4, 6, 8, 10]"
      ]
     },
     "execution_count": 29,
     "metadata": {},
     "output_type": "execute_result"
    }
   ],
   "source": [
    "even_2 = [num for num in numbers if a % 2 == 0]#give me that number for all numbers in numbers that is divisibl by 2\n",
    "even_2"
   ]
  },
  {
   "cell_type": "code",
   "execution_count": 30,
   "id": "e2784819",
   "metadata": {},
   "outputs": [],
   "source": [
    "#elif does not work in list comprehension, just if and else\n"
   ]
  },
  {
   "cell_type": "code",
   "execution_count": 31,
   "id": "d68b8d18",
   "metadata": {},
   "outputs": [
    {
     "data": {
      "text/plain": [
       "['odd', 'even', 'odd', 'even', 'odd', 'even', 'odd', 'even', 'odd', 'even']"
      ]
     },
     "execution_count": 31,
     "metadata": {},
     "output_type": "execute_result"
    }
   ],
   "source": [
    "label = ['even' if x % 2 == 0 else 'odd' for x in numbers]\n",
    "\n",
    "label"
   ]
  },
  {
   "cell_type": "code",
   "execution_count": 33,
   "id": "a36be6c4",
   "metadata": {},
   "outputs": [
    {
     "data": {
      "text/plain": [
       "['loss', 'profit', 'profit', 'break even', 'profit', 'loss']"
      ]
     },
     "execution_count": 33,
     "metadata": {},
     "output_type": "execute_result"
    }
   ],
   "source": [
    "profit = [-1, 3,4,0,2,-3]\n",
    "\n",
    "remark = ['loss' if x < 0 else 'break even' if x == 0 else 'profit' for x in profit]\n",
    "\n",
    "remark"
   ]
  },
  {
   "cell_type": "code",
   "execution_count": 34,
   "id": "c4bc88cc",
   "metadata": {},
   "outputs": [
    {
     "ename": "TypeError",
     "evalue": "'str' object cannot be interpreted as an integer",
     "output_type": "error",
     "traceback": [
      "\u001b[0;31m---------------------------------------------------------------------------\u001b[0m",
      "\u001b[0;31mTypeError\u001b[0m                                 Traceback (most recent call last)",
      "Cell \u001b[0;32mIn[34], line 1\u001b[0m\n\u001b[0;32m----> 1\u001b[0m check_prime(\u001b[38;5;124m'\u001b[39m\u001b[38;5;124ma\u001b[39m\u001b[38;5;124m'\u001b[39m)\n",
      "Cell \u001b[0;32mIn[3], line 2\u001b[0m, in \u001b[0;36mcheck_prime\u001b[0;34m(num)\u001b[0m\n\u001b[1;32m      1\u001b[0m \u001b[38;5;28;01mdef\u001b[39;00m \u001b[38;5;21mcheck_prime\u001b[39m(num):\n\u001b[0;32m----> 2\u001b[0m     \u001b[38;5;28;01mfor\u001b[39;00m i \u001b[38;5;129;01min\u001b[39;00m \u001b[38;5;28mrange\u001b[39m(\u001b[38;5;241m2\u001b[39m,num):\n\u001b[1;32m      3\u001b[0m         \u001b[38;5;28;01mif\u001b[39;00m num \u001b[38;5;241m%\u001b[39m i \u001b[38;5;241m==\u001b[39m \u001b[38;5;241m0\u001b[39m:\n\u001b[1;32m      4\u001b[0m             \u001b[38;5;28;01mreturn\u001b[39;00m \u001b[38;5;28;01mFalse\u001b[39;00m\n",
      "\u001b[0;31mTypeError\u001b[0m: 'str' object cannot be interpreted as an integer"
     ]
    }
   ],
   "source": [
    "check_prime('a')"
   ]
  },
  {
   "cell_type": "code",
   "execution_count": 38,
   "id": "2305ecc4",
   "metadata": {},
   "outputs": [],
   "source": [
    "def check_prime(num):\n",
    "    try:\n",
    "        for i in range(2,num):\n",
    "            if num % i == 0:\n",
    "                return False\n",
    "        else:\n",
    "            return True\n",
    "    except TypeError:\n",
    "        return f'are you okay'"
   ]
  },
  {
   "cell_type": "code",
   "execution_count": 39,
   "id": "ba7960ad",
   "metadata": {},
   "outputs": [
    {
     "data": {
      "text/plain": [
       "'are you okay'"
      ]
     },
     "execution_count": 39,
     "metadata": {},
     "output_type": "execute_result"
    }
   ],
   "source": [
    "check_prime('a')"
   ]
  },
  {
   "cell_type": "code",
   "execution_count": 44,
   "id": "b6846ccd",
   "metadata": {},
   "outputs": [
    {
     "name": "stdout",
     "output_type": "stream",
     "text": [
      "num1: 3\n",
      "num2: 4\n",
      "0.75\n",
      "num1: 3\n",
      "num2: 5\n",
      "0.6\n",
      "num1: 7\n",
      "num2: 9\n",
      "0.7777777777777778\n"
     ]
    }
   ],
   "source": [
    "attempt = 0\n",
    "while attempt <= 2:\n",
    "    try:\n",
    "        num1 = int(input('num1: '))\n",
    "        num2 = int(input('num2: '))\n",
    "    \n",
    "        print(f'{num1/num2}')\n",
    "          \n",
    "        attempt += 1\n",
    "    except ZeroDivisionError:\n",
    "        print ('cannot divide by zero')"
   ]
  },
  {
   "cell_type": "code",
   "execution_count": null,
   "id": "e4f356e2",
   "metadata": {},
   "outputs": [],
   "source": []
  }
 ],
 "metadata": {
  "kernelspec": {
   "display_name": "Python 3 (ipykernel)",
   "language": "python",
   "name": "python3"
  },
  "language_info": {
   "codemirror_mode": {
    "name": "ipython",
    "version": 3
   },
   "file_extension": ".py",
   "mimetype": "text/x-python",
   "name": "python",
   "nbconvert_exporter": "python",
   "pygments_lexer": "ipython3",
   "version": "3.11.5"
  }
 },
 "nbformat": 4,
 "nbformat_minor": 5
}
